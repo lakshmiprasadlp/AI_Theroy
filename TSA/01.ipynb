{
 "cells": [
  {
   "cell_type": "markdown",
   "id": "8877cf71-f40e-4e1d-9bef-3a9ac95b5fc2",
   "metadata": {},
   "source": [
    "# Time series data is like a collection of snapshots taken at different moments over time."
   ]
  },
  {
   "cell_type": "code",
   "execution_count": null,
   "id": "95b4138e-1230-451c-ba1b-754d515f39cb",
   "metadata": {},
   "outputs": [],
   "source": []
  }
 ],
 "metadata": {
  "kernelspec": {
   "display_name": "Python 3 (ipykernel)",
   "language": "python",
   "name": "python3"
  },
  "language_info": {
   "codemirror_mode": {
    "name": "ipython",
    "version": 3
   },
   "file_extension": ".py",
   "mimetype": "text/x-python",
   "name": "python",
   "nbconvert_exporter": "python",
   "pygments_lexer": "ipython3",
   "version": "3.9.18"
  }
 },
 "nbformat": 4,
 "nbformat_minor": 5
}
